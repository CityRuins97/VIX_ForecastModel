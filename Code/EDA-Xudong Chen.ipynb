{
 "cells": [
  {
   "cell_type": "markdown",
   "id": "3c1e96a7-b0d6-4d2f-b33a-7ce31ef35028",
   "metadata": {},
   "source": [
    "# Project 1"
   ]
  },
  {
   "cell_type": "markdown",
   "id": "3f197fe2-38ff-4780-bd57-ba54c1607af1",
   "metadata": {
    "tags": []
   },
   "source": [
    "### Xudong Chen; Zhengxian Li"
   ]
  },
  {
   "cell_type": "markdown",
   "id": "0180b94c-ffe2-4e50-b0ce-b03dc3a50ca3",
   "metadata": {},
   "source": [
    "### 6/2/2022"
   ]
  },
  {
   "cell_type": "markdown",
   "id": "c5cc1ca5-66c0-4f2d-9736-c1942429fb69",
   "metadata": {},
   "source": [
    "## Introduction"
   ]
  },
  {
   "cell_type": "markdown",
   "id": "63534f77-7a5b-41a3-bdf2-fd1deb2c6e70",
   "metadata": {},
   "source": [
    "In this project, we will work for a dataset [***bikeDetail.csv***](\"https://www.kaggle.com/nehalbirla/motorcycle-dataset?select=BIKE+DETAILS.csv\"), which contains information of the selling bike. There are 7 variables in this whole dataset. Here is the description:\n",
    "\n",
    "Number | Variable      | Type    | Description\n",
    "------ | ------------- | ------- | -------------------------------------------------------\n",
    "1      | name        | object  | motorbike's name\n",
    "2      | selling_price           | numeric  | motorbike's selling price\n",
    "3      | year           | numeric | motorbike's year\n",
    "4      | seller_type       | object  | type of motorbike's seller\n",
    "5      | owner       | object  | # of owners\n",
    "6      | km_driven       | numeric  | the kilometers motorbike has driven \n",
    "7      | ex_showroom_price          | numeric | motorbike's expected price"
   ]
  },
  {
   "cell_type": "markdown",
   "id": "ef7cd9f7-04e5-46cb-ac29-16e1f035f105",
   "metadata": {},
   "source": [
    "There are three parts in the project:\n",
    "- Introduction\n",
    "- EDA\n",
    "- Prediction of `selling_price`\n",
    "\n",
    "The purposes are to know how to do exploratory data analysis with summaries and graphs and two methods to predict the selling price. The get the purposes, there are several modules we will use:\n",
    "\n",
    "Name | Application in this project      \n",
    "------ | ------------- \n",
    "pandas      | analyze the data based on dataframe and series \n",
    "numpy      | calculate the statistics for the numeric variables\n",
    "matplotlib.pyplot      | Plot the figures we need\n",
    "seaborn    | Plot density\n",
    "scipy.stats | For trend line plot\n",
    "\n",
    "Let's import these modules:"
   ]
  },
  {
   "cell_type": "code",
   "execution_count": 1,
   "id": "41b90887-b1c7-42bb-90dd-fc22a9c0ba78",
   "metadata": {},
   "outputs": [],
   "source": [
    "import pandas as pd\n",
    "import numpy as np\n",
    "import matplotlib.pyplot as plt\n",
    "import seaborn as sns\n",
    "import scipy.stats as stats"
   ]
  },
  {
   "cell_type": "markdown",
   "id": "b221e913-99ec-4585-8461-dbc3cc0dd7bc",
   "metadata": {},
   "source": [
    "Let's import the data as a dataframe using `pd.read_csv()`."
   ]
  },
  {
   "cell_type": "code",
   "execution_count": 2,
   "id": "62e67f4d-84d7-4722-8a77-33a002cbd8c5",
   "metadata": {},
   "outputs": [],
   "source": [
    "bike = pd.read_csv(\"bikeDetails.csv\")"
   ]
  },
  {
   "cell_type": "markdown",
   "id": "8389037e-9ba6-4dd4-8654-8a3af459c17a",
   "metadata": {},
   "source": [
    "Let's show the first five rows."
   ]
  },
  {
   "cell_type": "code",
   "execution_count": 3,
   "id": "0e05d8dd-b820-43d1-8689-9c72e7ee4fd3",
   "metadata": {},
   "outputs": [
    {
     "data": {
      "text/html": [
       "<div>\n",
       "<style scoped>\n",
       "    .dataframe tbody tr th:only-of-type {\n",
       "        vertical-align: middle;\n",
       "    }\n",
       "\n",
       "    .dataframe tbody tr th {\n",
       "        vertical-align: top;\n",
       "    }\n",
       "\n",
       "    .dataframe thead th {\n",
       "        text-align: right;\n",
       "    }\n",
       "</style>\n",
       "<table border=\"1\" class=\"dataframe\">\n",
       "  <thead>\n",
       "    <tr style=\"text-align: right;\">\n",
       "      <th></th>\n",
       "      <th>name</th>\n",
       "      <th>selling_price</th>\n",
       "      <th>year</th>\n",
       "      <th>seller_type</th>\n",
       "      <th>owner</th>\n",
       "      <th>km_driven</th>\n",
       "      <th>ex_showroom_price</th>\n",
       "    </tr>\n",
       "  </thead>\n",
       "  <tbody>\n",
       "    <tr>\n",
       "      <th>0</th>\n",
       "      <td>Royal Enfield Classic 350</td>\n",
       "      <td>175000</td>\n",
       "      <td>2019</td>\n",
       "      <td>Individual</td>\n",
       "      <td>1st owner</td>\n",
       "      <td>350</td>\n",
       "      <td>NaN</td>\n",
       "    </tr>\n",
       "    <tr>\n",
       "      <th>1</th>\n",
       "      <td>Honda Dio</td>\n",
       "      <td>45000</td>\n",
       "      <td>2017</td>\n",
       "      <td>Individual</td>\n",
       "      <td>1st owner</td>\n",
       "      <td>5650</td>\n",
       "      <td>NaN</td>\n",
       "    </tr>\n",
       "    <tr>\n",
       "      <th>2</th>\n",
       "      <td>Royal Enfield Classic Gunmetal Grey</td>\n",
       "      <td>150000</td>\n",
       "      <td>2018</td>\n",
       "      <td>Individual</td>\n",
       "      <td>1st owner</td>\n",
       "      <td>12000</td>\n",
       "      <td>148114.0</td>\n",
       "    </tr>\n",
       "    <tr>\n",
       "      <th>3</th>\n",
       "      <td>Yamaha Fazer FI V 2.0 [2016-2018]</td>\n",
       "      <td>65000</td>\n",
       "      <td>2015</td>\n",
       "      <td>Individual</td>\n",
       "      <td>1st owner</td>\n",
       "      <td>23000</td>\n",
       "      <td>89643.0</td>\n",
       "    </tr>\n",
       "    <tr>\n",
       "      <th>4</th>\n",
       "      <td>Yamaha SZ [2013-2014]</td>\n",
       "      <td>20000</td>\n",
       "      <td>2011</td>\n",
       "      <td>Individual</td>\n",
       "      <td>2nd owner</td>\n",
       "      <td>21000</td>\n",
       "      <td>NaN</td>\n",
       "    </tr>\n",
       "  </tbody>\n",
       "</table>\n",
       "</div>"
      ],
      "text/plain": [
       "                                  name  selling_price  year seller_type  \\\n",
       "0            Royal Enfield Classic 350         175000  2019  Individual   \n",
       "1                            Honda Dio          45000  2017  Individual   \n",
       "2  Royal Enfield Classic Gunmetal Grey         150000  2018  Individual   \n",
       "3    Yamaha Fazer FI V 2.0 [2016-2018]          65000  2015  Individual   \n",
       "4                Yamaha SZ [2013-2014]          20000  2011  Individual   \n",
       "\n",
       "       owner  km_driven  ex_showroom_price  \n",
       "0  1st owner        350                NaN  \n",
       "1  1st owner       5650                NaN  \n",
       "2  1st owner      12000           148114.0  \n",
       "3  1st owner      23000            89643.0  \n",
       "4  2nd owner      21000                NaN  "
      ]
     },
     "execution_count": 3,
     "metadata": {},
     "output_type": "execute_result"
    }
   ],
   "source": [
    "bike.head()"
   ]
  },
  {
   "cell_type": "markdown",
   "id": "6ca1eda2-fec7-438e-a046-623f09fb2b6d",
   "metadata": {},
   "source": [
    "Let's show the information of this dataset."
   ]
  },
  {
   "cell_type": "code",
   "execution_count": 4,
   "id": "374a8a88-a097-4126-9d7e-f2a493f74b0f",
   "metadata": {},
   "outputs": [
    {
     "name": "stdout",
     "output_type": "stream",
     "text": [
      "<class 'pandas.core.frame.DataFrame'>\n",
      "RangeIndex: 1061 entries, 0 to 1060\n",
      "Data columns (total 7 columns):\n",
      " #   Column             Non-Null Count  Dtype  \n",
      "---  ------             --------------  -----  \n",
      " 0   name               1061 non-null   object \n",
      " 1   selling_price      1061 non-null   int64  \n",
      " 2   year               1061 non-null   int64  \n",
      " 3   seller_type        1061 non-null   object \n",
      " 4   owner              1061 non-null   object \n",
      " 5   km_driven          1061 non-null   int64  \n",
      " 6   ex_showroom_price  626 non-null    float64\n",
      "dtypes: float64(1), int64(3), object(3)\n",
      "memory usage: 58.1+ KB\n"
     ]
    }
   ],
   "source": [
    "bike.info()"
   ]
  },
  {
   "cell_type": "markdown",
   "id": "922d38a4-9bb8-43a2-ba94-6fe6cf8dd79b",
   "metadata": {},
   "source": [
    "From the summary, we can find that there are 1061 bikes' information in this dataset. Except the `ex_showroom_price` variable, there is no null value."
   ]
  },
  {
   "cell_type": "markdown",
   "id": "a5981165-d62d-4ce3-9d2f-ad62cfc77e11",
   "metadata": {},
   "source": [
    "## EDA"
   ]
  },
  {
   "cell_type": "markdown",
   "id": "9e61e1fd-3740-49c4-a17a-c729253d4e6d",
   "metadata": {},
   "source": [
    "In this dataset, what we most interested are the variable `selling_price` and how other variables affect it. Let's firstly find the center and spread of this single variable and plots the distribution."
   ]
  },
  {
   "cell_type": "markdown",
   "id": "41259ff3-187b-4c99-b6e8-599a90b86310",
   "metadata": {},
   "source": [
    "#### EDA for category variable<br>\n",
    "__we make some variable type changes above and in this subsection we focus on these variable own relationship between each other__\n",
    "* number of occurrence of different variables"
   ]
  },
  {
   "cell_type": "code",
   "execution_count": 5,
   "id": "e8dfbcee-4aa3-4cc4-969f-7d83cfd841ab",
   "metadata": {
    "scrolled": true,
    "tags": []
   },
   "outputs": [
    {
     "name": "stdout",
     "output_type": "stream",
     "text": [
      "Different type owner numbers\n",
      "1st owner    924\n",
      "2nd owner    123\n",
      "3rd owner     11\n",
      "4th owner      3\n",
      "Name: owner, dtype: int64 \n",
      "\n",
      "Different type of seller\n",
      "Individual    1055\n",
      "Dealer           6\n",
      "Name: seller_type, dtype: int64 \n",
      "\n",
      "Different years\n",
      "2017    133\n",
      "2018    131\n",
      "2016    107\n",
      "2015    100\n",
      "2014     91\n",
      "2019     86\n",
      "2013     73\n",
      "2012     70\n",
      "2011     61\n",
      "2010     60\n",
      "2007     29\n",
      "2008     28\n",
      "2009     28\n",
      "2006     20\n",
      "2005     14\n",
      "2000      6\n",
      "2004      5\n",
      "2002      3\n",
      "2020      3\n",
      "1998      3\n",
      "1997      2\n",
      "2001      2\n",
      "1988      1\n",
      "1999      1\n",
      "1991      1\n",
      "2003      1\n",
      "1993      1\n",
      "1995      1\n",
      "Name: year, dtype: int64\n"
     ]
    }
   ],
   "source": [
    "print(\"Different type owner numbers\")\n",
    "print(bike.owner.value_counts(),\"\\n\")\n",
    "print(\"Different type of seller\")\n",
    "print(bike.seller_type.value_counts(),\"\\n\")\n",
    "print(\"Different years\")\n",
    "print(bike.year.value_counts())"
   ]
  },
  {
   "cell_type": "markdown",
   "id": "ab70fd78-c169-45c9-98ec-2ad96db4a64e",
   "metadata": {},
   "source": [
    "* Stacked, sides by sides plots and cross table betwwen owner type and seller type"
   ]
  },
  {
   "cell_type": "code",
   "execution_count": 6,
   "id": "1c8f00cf-75eb-46e3-9794-5492f78f6f40",
   "metadata": {},
   "outputs": [
    {
     "data": {
      "image/png": "[encoded data removed]",
      "text/plain": [
       "<Figure size 432x288 with 1 Axes>"
      ]
     },
     "metadata": {
      "needs_background": "light"
     },
     "output_type": "display_data"
    },
    {
     "data": {
      "image/png": "[encoded data removed]",
      "text/plain": [
       "<Figure size 432x288 with 1 Axes>"
      ]
     },
     "metadata": {
      "needs_background": "light"
     },
     "output_type": "display_data"
    },
    {
     "data": {
      "text/html": [
       "<div>\n",
       "<style scoped>\n",
       "    .dataframe tbody tr th:only-of-type {\n",
       "        vertical-align: middle;\n",
       "    }\n",
       "\n",
       "    .dataframe tbody tr th {\n",
       "        vertical-align: top;\n",
       "    }\n",
       "\n",
       "    .dataframe thead th {\n",
       "        text-align: right;\n",
       "    }\n",
       "</style>\n",
       "<table border=\"1\" class=\"dataframe\">\n",
       "  <thead>\n",
       "    <tr style=\"text-align: right;\">\n",
       "      <th>owner</th>\n",
       "      <th>1st owner</th>\n",
       "      <th>2nd owner</th>\n",
       "      <th>3rd owner</th>\n",
       "      <th>4th owner</th>\n",
       "      <th>All</th>\n",
       "    </tr>\n",
       "    <tr>\n",
       "      <th>seller_type</th>\n",
       "      <th></th>\n",
       "      <th></th>\n",
       "      <th></th>\n",
       "      <th></th>\n",
       "      <th></th>\n",
       "    </tr>\n",
       "  </thead>\n",
       "  <tbody>\n",
       "    <tr>\n",
       "      <th>Dealer</th>\n",
       "      <td>4</td>\n",
       "      <td>2</td>\n",
       "      <td>0</td>\n",
       "      <td>0</td>\n",
       "      <td>6</td>\n",
       "    </tr>\n",
       "    <tr>\n",
       "      <th>Individual</th>\n",
       "      <td>920</td>\n",
       "      <td>121</td>\n",
       "      <td>11</td>\n",
       "      <td>3</td>\n",
       "      <td>1055</td>\n",
       "    </tr>\n",
       "    <tr>\n",
       "      <th>All</th>\n",
       "      <td>924</td>\n",
       "      <td>123</td>\n",
       "      <td>11</td>\n",
       "      <td>3</td>\n",
       "      <td>1061</td>\n",
       "    </tr>\n",
       "  </tbody>\n",
       "</table>\n",
       "</div>"
      ],
      "text/plain": [
       "owner        1st owner  2nd owner  3rd owner  4th owner   All\n",
       "seller_type                                                  \n",
       "Dealer               4          2          0          0     6\n",
       "Individual         920        121         11          3  1055\n",
       "All                924        123         11          3  1061"
      ]
     },
     "execution_count": 6,
     "metadata": {},
     "output_type": "execute_result"
    }
   ],
   "source": [
    "table = pd.crosstab(bike.seller_type,bike.owner)\n",
    "table.plot.bar(stacked = True)\n",
    "plt.xticks(rotation = 0)\n",
    "plt.show()\n",
    "table = pd.crosstab(bike.seller_type,bike.owner)\n",
    "table.plot.bar()\n",
    "plt.xticks(rotation = 0)\n",
    "plt.show()\n",
    "table = pd.crosstab(bike.seller_type,bike.owner,margins = True)\n",
    "table"
   ]
  },
  {
   "cell_type": "markdown",
   "id": "3a41de9b-6cc5-4e9d-b608-71a490b93832",
   "metadata": {},
   "source": [
    "___According to the plot and table, we could clearly see the distribution of owner and seller, in motorbike market, most seller is individual which occupy 99.4% of total seller, dealer much less than individual seller, almost none, meanwhile most owner is 1st owner, occupying 87.1%, 2nd owner only occupying 11.6%, with negligible rest owner type___<br>"
   ]
  },
  {
   "cell_type": "code",
   "execution_count": 8,
   "id": "1e306b23-ae54-4506-bcbd-8762e4a33970",
   "metadata": {
    "scrolled": true,
    "tags": []
   },
   "outputs": [
    {
     "data": {
      "image/png": "[encoded data removed]",
      "text/plain": [
       "<Figure size 432x288 with 1 Axes>"
      ]
     },
     "metadata": {
      "needs_background": "light"
     },
     "output_type": "display_data"
    },
    {
     "data": {
      "image/png": "[encoded data removed]",
      "text/plain": [
       "<Figure size 432x288 with 1 Axes>"
      ]
     },
     "metadata": {
      "needs_background": "light"
     },
     "output_type": "display_data"
    },
    {
     "data": {
      "text/html": [
       "<div>\n",
       "<style scoped>\n",
       "    .dataframe tbody tr th:only-of-type {\n",
       "        vertical-align: middle;\n",
       "    }\n",
       "\n",
       "    .dataframe tbody tr th {\n",
       "        vertical-align: top;\n",
       "    }\n",
       "\n",
       "    .dataframe thead th {\n",
       "        text-align: right;\n",
       "    }\n",
       "</style>\n",
       "<table border=\"1\" class=\"dataframe\">\n",
       "  <thead>\n",
       "    <tr style=\"text-align: right;\">\n",
       "      <th>owner</th>\n",
       "      <th>1st owner</th>\n",
       "      <th>2nd owner</th>\n",
       "      <th>3rd owner</th>\n",
       "      <th>4th owner</th>\n",
       "      <th>All</th>\n",
       "    </tr>\n",
       "    <tr>\n",
       "      <th>year</th>\n",
       "      <th></th>\n",
       "      <th></th>\n",
       "      <th></th>\n",
       "      <th></th>\n",
       "      <th></th>\n",
       "    </tr>\n",
       "  </thead>\n",
       "  <tbody>\n",
       "    <tr>\n",
       "      <th>1988</th>\n",
       "      <td>1</td>\n",
       "      <td>0</td>\n",
       "      <td>0</td>\n",
       "      <td>0</td>\n",
       "      <td>1</td>\n",
       "    </tr>\n",
       "    <tr>\n",
       "      <th>1991</th>\n",
       "      <td>1</td>\n",
       "      <td>0</td>\n",
       "      <td>0</td>\n",
       "      <td>0</td>\n",
       "      <td>1</td>\n",
       "    </tr>\n",
       "    <tr>\n",
       "      <th>1993</th>\n",
       "      <td>0</td>\n",
       "      <td>1</td>\n",
       "      <td>0</td>\n",
       "      <td>0</td>\n",
       "      <td>1</td>\n",
       "    </tr>\n",
       "    <tr>\n",
       "      <th>1995</th>\n",
       "      <td>0</td>\n",
       "      <td>0</td>\n",
       "      <td>1</td>\n",
       "      <td>0</td>\n",
       "      <td>1</td>\n",
       "    </tr>\n",
       "    <tr>\n",
       "      <th>1997</th>\n",
       "      <td>2</td>\n",
       "      <td>0</td>\n",
       "      <td>0</td>\n",
       "      <td>0</td>\n",
       "      <td>2</td>\n",
       "    </tr>\n",
       "    <tr>\n",
       "      <th>1998</th>\n",
       "      <td>2</td>\n",
       "      <td>0</td>\n",
       "      <td>1</td>\n",
       "      <td>0</td>\n",
       "      <td>3</td>\n",
       "    </tr>\n",
       "    <tr>\n",
       "      <th>1999</th>\n",
       "      <td>0</td>\n",
       "      <td>1</td>\n",
       "      <td>0</td>\n",
       "      <td>0</td>\n",
       "      <td>1</td>\n",
       "    </tr>\n",
       "    <tr>\n",
       "      <th>2000</th>\n",
       "      <td>4</td>\n",
       "      <td>0</td>\n",
       "      <td>1</td>\n",
       "      <td>1</td>\n",
       "      <td>6</td>\n",
       "    </tr>\n",
       "    <tr>\n",
       "      <th>2001</th>\n",
       "      <td>1</td>\n",
       "      <td>1</td>\n",
       "      <td>0</td>\n",
       "      <td>0</td>\n",
       "      <td>2</td>\n",
       "    </tr>\n",
       "    <tr>\n",
       "      <th>2002</th>\n",
       "      <td>1</td>\n",
       "      <td>2</td>\n",
       "      <td>0</td>\n",
       "      <td>0</td>\n",
       "      <td>3</td>\n",
       "    </tr>\n",
       "    <tr>\n",
       "      <th>2003</th>\n",
       "      <td>1</td>\n",
       "      <td>0</td>\n",
       "      <td>0</td>\n",
       "      <td>0</td>\n",
       "      <td>1</td>\n",
       "    </tr>\n",
       "    <tr>\n",
       "      <th>2004</th>\n",
       "      <td>4</td>\n",
       "      <td>1</td>\n",
       "      <td>0</td>\n",
       "      <td>0</td>\n",
       "      <td>5</td>\n",
       "    </tr>\n",
       "    <tr>\n",
       "      <th>2005</th>\n",
       "      <td>11</td>\n",
       "      <td>3</td>\n",
       "      <td>0</td>\n",
       "      <td>0</td>\n",
       "      <td>14</td>\n",
       "    </tr>\n",
       "    <tr>\n",
       "      <th>2006</th>\n",
       "      <td>17</td>\n",
       "      <td>3</td>\n",
       "      <td>0</td>\n",
       "      <td>0</td>\n",
       "      <td>20</td>\n",
       "    </tr>\n",
       "    <tr>\n",
       "      <th>2007</th>\n",
       "      <td>24</td>\n",
       "      <td>5</td>\n",
       "      <td>0</td>\n",
       "      <td>0</td>\n",
       "      <td>29</td>\n",
       "    </tr>\n",
       "    <tr>\n",
       "      <th>2008</th>\n",
       "      <td>21</td>\n",
       "      <td>5</td>\n",
       "      <td>2</td>\n",
       "      <td>0</td>\n",
       "      <td>28</td>\n",
       "    </tr>\n",
       "    <tr>\n",
       "      <th>2009</th>\n",
       "      <td>21</td>\n",
       "      <td>5</td>\n",
       "      <td>1</td>\n",
       "      <td>1</td>\n",
       "      <td>28</td>\n",
       "    </tr>\n",
       "    <tr>\n",
       "      <th>2010</th>\n",
       "      <td>50</td>\n",
       "      <td>10</td>\n",
       "      <td>0</td>\n",
       "      <td>0</td>\n",
       "      <td>60</td>\n",
       "    </tr>\n",
       "    <tr>\n",
       "      <th>2011</th>\n",
       "      <td>50</td>\n",
       "      <td>10</td>\n",
       "      <td>1</td>\n",
       "      <td>0</td>\n",
       "      <td>61</td>\n",
       "    </tr>\n",
       "    <tr>\n",
       "      <th>2012</th>\n",
       "      <td>56</td>\n",
       "      <td>13</td>\n",
       "      <td>1</td>\n",
       "      <td>0</td>\n",
       "      <td>70</td>\n",
       "    </tr>\n",
       "    <tr>\n",
       "      <th>2013</th>\n",
       "      <td>66</td>\n",
       "      <td>6</td>\n",
       "      <td>1</td>\n",
       "      <td>0</td>\n",
       "      <td>73</td>\n",
       "    </tr>\n",
       "    <tr>\n",
       "      <th>2014</th>\n",
       "      <td>75</td>\n",
       "      <td>15</td>\n",
       "      <td>0</td>\n",
       "      <td>1</td>\n",
       "      <td>91</td>\n",
       "    </tr>\n",
       "    <tr>\n",
       "      <th>2015</th>\n",
       "      <td>83</td>\n",
       "      <td>16</td>\n",
       "      <td>1</td>\n",
       "      <td>0</td>\n",
       "      <td>100</td>\n",
       "    </tr>\n",
       "    <tr>\n",
       "      <th>2016</th>\n",
       "      <td>95</td>\n",
       "      <td>12</td>\n",
       "      <td>0</td>\n",
       "      <td>0</td>\n",
       "      <td>107</td>\n",
       "    </tr>\n",
       "    <tr>\n",
       "      <th>2017</th>\n",
       "      <td>122</td>\n",
       "      <td>10</td>\n",
       "      <td>1</td>\n",
       "      <td>0</td>\n",
       "      <td>133</td>\n",
       "    </tr>\n",
       "    <tr>\n",
       "      <th>2018</th>\n",
       "      <td>128</td>\n",
       "      <td>3</td>\n",
       "      <td>0</td>\n",
       "      <td>0</td>\n",
       "      <td>131</td>\n",
       "    </tr>\n",
       "    <tr>\n",
       "      <th>2019</th>\n",
       "      <td>85</td>\n",
       "      <td>1</td>\n",
       "      <td>0</td>\n",
       "      <td>0</td>\n",
       "      <td>86</td>\n",
       "    </tr>\n",
       "    <tr>\n",
       "      <th>2020</th>\n",
       "      <td>3</td>\n",
       "      <td>0</td>\n",
       "      <td>0</td>\n",
       "      <td>0</td>\n",
       "      <td>3</td>\n",
       "    </tr>\n",
       "    <tr>\n",
       "      <th>All</th>\n",
       "      <td>924</td>\n",
       "      <td>123</td>\n",
       "      <td>11</td>\n",
       "      <td>3</td>\n",
       "      <td>1061</td>\n",
       "    </tr>\n",
       "  </tbody>\n",
       "</table>\n",
       "</div>"
      ],
      "text/plain": [
       "owner  1st owner  2nd owner  3rd owner  4th owner   All\n",
       "year                                                   \n",
       "1988           1          0          0          0     1\n",
       "1991           1          0          0          0     1\n",
       "1993           0          1          0          0     1\n",
       "1995           0          0          1          0     1\n",
       "1997           2          0          0          0     2\n",
       "1998           2          0          1          0     3\n",
       "1999           0          1          0          0     1\n",
       "2000           4          0          1          1     6\n",
       "2001           1          1          0          0     2\n",
       "2002           1          2          0          0     3\n",
       "2003           1          0          0          0     1\n",
       "2004           4          1          0          0     5\n",
       "2005          11          3          0          0    14\n",
       "2006          17          3          0          0    20\n",
       "2007          24          5          0          0    29\n",
       "2008          21          5          2          0    28\n",
       "2009          21          5          1          1    28\n",
       "2010          50         10          0          0    60\n",
       "2011          50         10          1          0    61\n",
       "2012          56         13          1          0    70\n",
       "2013          66          6          1          0    73\n",
       "2014          75         15          0          1    91\n",
       "2015          83         16          1          0   100\n",
       "2016          95         12          0          0   107\n",
       "2017         122         10          1          0   133\n",
       "2018         128          3          0          0   131\n",
       "2019          85          1          0          0    86\n",
       "2020           3          0          0          0     3\n",
       "All          924        123         11          3  1061"
      ]
     },
     "execution_count": 8,
     "metadata": {},
     "output_type": "execute_result"
    }
   ],
   "source": [
    "table = pd.crosstab(bike.year,bike.owner)\n",
    "table.plot.bar(stacked = True)\n",
    "plt.show()\n",
    "table = pd.crosstab(bike.year,bike.owner)\n",
    "table.plot.bar()\n",
    "plt.show()\n",
    "table = pd.crosstab(bike.year,bike.owner,margins = True)\n",
    "table"
   ]
  },
  {
   "cell_type": "markdown",
   "id": "576efeec-d0cc-4b10-abb2-4dbe3b26986e",
   "metadata": {},
   "source": [
    "### EDA for single response variable"
   ]
  },
  {
   "cell_type": "code",
   "execution_count": 12,
   "id": "3b2718d0-a41a-47b6-b8cf-eada45639a2e",
   "metadata": {},
   "outputs": [
    {
     "name": "stdout",
     "output_type": "stream",
     "text": [
      "[59638.151743638075, 45000.0, 56304.29197302424, 760000, 5000]\n",
      "Describe of Motor price\n",
      "count      1061.000000\n",
      "mean      59638.151744\n",
      "std       56304.291973\n",
      "min        5000.000000\n",
      "25%       28000.000000\n",
      "50%       45000.000000\n",
      "75%       70000.000000\n",
      "max      760000.000000\n",
      "Name: selling_price, dtype: float64 \n",
      "\n"
     ]
    }
   ],
   "source": [
    "print([bike.selling_price.mean(), bike.selling_price.median(), bike.selling_price.std(), bike.selling_price.max(),bike.selling_price.min()])\n",
    "print(\"Describe of Motor price\")\n",
    "print(bike[\"selling_price\"].describe(),\"\\n\")"
   ]
  },
  {
   "cell_type": "markdown",
   "id": "f7227643-6a0b-4f4d-a457-539a000e4934",
   "metadata": {},
   "source": [
    "Numeric summary for `selling_price`:\n",
    "\n",
    "Mean | Median      | Standard Derivation   | Max | Min   \n",
    "------ | ------------- | ------- | -------------------- | --------- \n",
    "59638.1517      | 45000.0        | 56304.2920  | 760000 | 5000 "
   ]
  },
  {
   "cell_type": "markdown",
   "id": "fd447411-853e-48a6-a33b-cdbf4600580a",
   "metadata": {},
   "source": [
    "Plot the histogram and distribution of `selling_price` and `km_driven`."
   ]
  },
  {
   "cell_type": "code",
   "execution_count": 13,
   "id": "a48db9a8-09c1-465d-976e-abdead0409e7",
   "metadata": {},
   "outputs": [
    {
     "name": "stderr",
     "output_type": "stream",
     "text": [
      "D:\\Anaconda3\\lib\\site-packages\\seaborn\\distributions.py:2619: FutureWarning: `distplot` is a deprecated function and will be removed in a future version. Please adapt your code to use either `displot` (a figure-level function with similar flexibility) or `histplot` (an axes-level function for histograms).\n",
      "  warnings.warn(msg, FutureWarning)\n"
     ]
    },
    {
     "data": {
      "image/png": "[encoded data removed]",
      "text/plain": [
       "<Figure size 432x288 with 1 Axes>"
      ]
     },
     "metadata": {
      "needs_background": "light"
     },
     "output_type": "display_data"
    }
   ],
   "source": [
    "sns.distplot(a=bike.selling_price, bins=30, color='purple',\n",
    "             hist_kws={\"edgecolor\": 'black'})\n",
    "plt.title(\"Histogram and distribution plot for selling price\")\n",
    "plt.xlabel(\"Selling Price\")\n",
    "plt.ylabel(\"Frenqency\")\n",
    "plt.show()"
   ]
  },
  {
   "cell_type": "markdown",
   "id": "8a227655-9bd6-45dc-919d-c16f35490983",
   "metadata": {},
   "source": [
    "__Most motorbike were sold in price below 200000__<br>"
   ]
  },
  {
   "cell_type": "markdown",
   "id": "054a9e37-33db-4893-8bd4-3a5dba498b0d",
   "metadata": {},
   "source": [
    "Plot the boxplot of `selling_price`."
   ]
  },
  {
   "cell_type": "code",
   "execution_count": 14,
   "id": "b628cb34-146e-4fe1-9460-698eceb0d1d5",
   "metadata": {},
   "outputs": [
    {
     "data": {
      "text/plain": [
       "Text(0, 0.5, 'Price')"
      ]
     },
     "execution_count": 14,
     "metadata": {},
     "output_type": "execute_result"
    },
    {
     "data": {
      "image/png": "[encoded data removed]",
      "text/plain": [
       "<Figure size 432x288 with 1 Axes>"
      ]
     },
     "metadata": {
      "needs_background": "light"
     },
     "output_type": "display_data"
    }
   ],
   "source": [
    "bike.boxplot(column='selling_price')\n",
    "plt.title(\"Boxplot for selling price\")\n",
    "plt.ylabel(\"Price\")"
   ]
  },
  {
   "cell_type": "code",
   "execution_count": 15,
   "id": "ee774b6f-9872-408d-89ce-262bed0e5a29",
   "metadata": {},
   "outputs": [
    {
     "data": {
      "text/plain": [
       "<AxesSubplot:xlabel='year', ylabel='selling_price'>"
      ]
     },
     "execution_count": 15,
     "metadata": {},
     "output_type": "execute_result"
    },
    {
     "data": {
      "image/png": "[encoded data removed]",
      "text/plain": [
       "<Figure size 432x288 with 1 Axes>"
      ]
     },
     "metadata": {
      "needs_background": "light"
     },
     "output_type": "display_data"
    }
   ],
   "source": [
    "bike.plot.scatter(x = \"year\", y = \"selling_price\",c = \"purple\")"
   ]
  },
  {
   "cell_type": "markdown",
   "id": "441f9d50-c78f-476f-815b-bc90c7411bf9",
   "metadata": {},
   "source": [
    "___From the numeric summary and two figures, we can find most of the prices are located in the area that the price is less 50000. However, there are several motor bikes has extremely high prices even more than 700000.___"
   ]
  },
  {
   "cell_type": "markdown",
   "id": "6daf5b17-c300-46be-bedf-c6038bf571e9",
   "metadata": {},
   "source": [
    "* Basic description and plot for `km_driven`"
   ]
  },
  {
   "cell_type": "code",
   "execution_count": 16,
   "id": "7502b13a-68c7-422c-8036-7b71b48e477b",
   "metadata": {},
   "outputs": [
    {
     "name": "stdout",
     "output_type": "stream",
     "text": [
      "Describe of Motor driven kilometer\n",
      "count      1061.000000\n",
      "mean      34359.833176\n",
      "std       51623.152702\n",
      "min         350.000000\n",
      "25%       13500.000000\n",
      "50%       25000.000000\n",
      "75%       43000.000000\n",
      "max      880000.000000\n",
      "Name: km_driven, dtype: float64 \n",
      "\n"
     ]
    }
   ],
   "source": [
    "print(\"Describe of Motor driven kilometer\")\n",
    "print(bike[\"km_driven\"].describe(),\"\\n\")"
   ]
  },
  {
   "cell_type": "code",
   "execution_count": 17,
   "id": "aae5c3e5-4049-4f86-a3f5-793d3ae9fb6e",
   "metadata": {},
   "outputs": [
    {
     "name": "stderr",
     "output_type": "stream",
     "text": [
      "D:\\Anaconda3\\lib\\site-packages\\seaborn\\distributions.py:2619: FutureWarning: `distplot` is a deprecated function and will be removed in a future version. Please adapt your code to use either `displot` (a figure-level function with similar flexibility) or `histplot` (an axes-level function for histograms).\n",
      "  warnings.warn(msg, FutureWarning)\n"
     ]
    },
    {
     "data": {
      "image/png": "[encoded data removed]",
      "text/plain": [
       "<Figure size 432x288 with 1 Axes>"
      ]
     },
     "metadata": {
      "needs_background": "light"
     },
     "output_type": "display_data"
    }
   ],
   "source": [
    "sns.distplot(a=bike.km_driven, bins=30, color='green',\n",
    "             hist_kws={\"edgecolor\": 'black'})\n",
    "plt.title(\"Histogram and distribution plot for km_driven\")\n",
    "plt.xlabel(\"km_driven\")\n",
    "plt.ylabel(\"Frenqency\")\n",
    "plt.show()"
   ]
  },
  {
   "cell_type": "code",
   "execution_count": 18,
   "id": "60671e43-4272-48de-8d50-6cb4d3105717",
   "metadata": {},
   "outputs": [
    {
     "data": {
      "text/plain": [
       "Text(0, 0.5, 'km_driven')"
      ]
     },
     "execution_count": 18,
     "metadata": {},
     "output_type": "execute_result"
    },
    {
     "data": {
      "image/png": "[encoded data removed]",
      "text/plain": [
       "<Figure size 432x288 with 1 Axes>"
      ]
     },
     "metadata": {
      "needs_background": "light"
     },
     "output_type": "display_data"
    }
   ],
   "source": [
    "bike.boxplot(column='km_driven')\n",
    "plt.title(\"Boxplot for km_driven\")\n",
    "plt.ylabel(\"km_driven\")"
   ]
  },
  {
   "cell_type": "code",
   "execution_count": 19,
   "id": "7bdd2071-c1fb-4248-b327-7c0a9d6120ef",
   "metadata": {},
   "outputs": [
    {
     "data": {
      "text/plain": [
       "<AxesSubplot:xlabel='year', ylabel='selling_price'>"
      ]
     },
     "execution_count": 19,
     "metadata": {},
     "output_type": "execute_result"
    },
    {
     "data": {
      "image/png": "[encoded data removed]",
      "text/plain": [
       "<Figure size 432x288 with 1 Axes>"
      ]
     },
     "metadata": {
      "needs_background": "light"
     },
     "output_type": "display_data"
    }
   ],
   "source": [
    "bike.plot.scatter(x = \"year\", y = \"selling_price\",c = \"green\")"
   ]
  },
  {
   "cell_type": "markdown",
   "id": "98c49686-ba98-4f1d-839a-10f7a19568c9",
   "metadata": {},
   "source": [
    "* Basic description and plot for `ex_showroom_price`"
   ]
  },
  {
   "cell_type": "code",
   "execution_count": 20,
   "id": "2d929f1f-7b22-4b8e-b9e5-1e941592a891",
   "metadata": {},
   "outputs": [
    {
     "name": "stdout",
     "output_type": "stream",
     "text": [
      "Describe of ex_showroom_price\n",
      "count    6.260000e+02\n",
      "mean     8.795871e+04\n",
      "std      7.749659e+04\n",
      "min      3.049000e+04\n",
      "25%      5.485200e+04\n",
      "50%      7.275250e+04\n",
      "75%      8.703150e+04\n",
      "max      1.278000e+06\n",
      "Name: ex_showroom_price, dtype: float64 \n",
      "\n"
     ]
    }
   ],
   "source": [
    "print(\"Describe of ex_showroom_price\")\n",
    "print(bike[\"ex_showroom_price\"].describe(),\"\\n\")"
   ]
  },
  {
   "cell_type": "code",
   "execution_count": 21,
   "id": "41ab4298-6276-45cc-aac0-fc71fa11a9f5",
   "metadata": {},
   "outputs": [
    {
     "name": "stderr",
     "output_type": "stream",
     "text": [
      "D:\\Anaconda3\\lib\\site-packages\\seaborn\\distributions.py:2619: FutureWarning: `distplot` is a deprecated function and will be removed in a future version. Please adapt your code to use either `displot` (a figure-level function with similar flexibility) or `histplot` (an axes-level function for histograms).\n",
      "  warnings.warn(msg, FutureWarning)\n"
     ]
    },
    {
     "data": {
      "image/png": "[encoded data removed]",
      "text/plain": [
       "<Figure size 432x288 with 1 Axes>"
      ]
     },
     "metadata": {
      "needs_background": "light"
     },
     "output_type": "display_data"
    }
   ],
   "source": [
    "sns.distplot(a=bike.ex_showroom_price, bins=30, color='orange',\n",
    "             hist_kws={\"edgecolor\": 'black'})\n",
    "plt.title(\"Histogram and distribution plot for ex_showroom_price\")\n",
    "plt.xlabel(\"ex_showroom_price\")\n",
    "plt.ylabel(\"Frenqency\")\n",
    "plt.show()"
   ]
  },
  {
   "cell_type": "code",
   "execution_count": 22,
   "id": "8c5aaa89-47ae-4390-8dc9-1a0d366063d7",
   "metadata": {},
   "outputs": [
    {
     "data": {
      "text/plain": [
       "Text(0, 0.5, 'ex_showroom_price')"
      ]
     },
     "execution_count": 22,
     "metadata": {},
     "output_type": "execute_result"
    },
    {
     "data": {
      "image/png": "[encoded data removed]",
      "text/plain": [
       "<Figure size 432x288 with 1 Axes>"
      ]
     },
     "metadata": {
      "needs_background": "light"
     },
     "output_type": "display_data"
    }
   ],
   "source": [
    "bike.boxplot(column='ex_showroom_price')\n",
    "plt.title(\"Boxplot for ex_showroom_price\")\n",
    "plt.ylabel(\"ex_showroom_price\")"
   ]
  },
  {
   "cell_type": "code",
   "execution_count": 23,
   "id": "81d4dda9-59dd-4257-b3e4-f8d3cb4153d5",
   "metadata": {},
   "outputs": [
    {
     "data": {
      "text/plain": [
       "<AxesSubplot:xlabel='year', ylabel='ex_showroom_price'>"
      ]
     },
     "execution_count": 23,
     "metadata": {},
     "output_type": "execute_result"
    },
    {
     "data": {
      "image/png": "[encoded data removed]",
      "text/plain": [
       "<Figure size 432x288 with 1 Axes>"
      ]
     },
     "metadata": {
      "needs_background": "light"
     },
     "output_type": "display_data"
    }
   ],
   "source": [
    "bike.plot.scatter(x = \"year\", y = \"ex_showroom_price\",c = \"orange\")"
   ]
  },
  {
   "cell_type": "markdown",
   "id": "869a899f-7584-4f3f-8fc1-32e33e28156f",
   "metadata": {},
   "source": [
    "### Relationship between response variable and numeric variables"
   ]
  },
  {
   "cell_type": "markdown",
   "id": "bb68f735-a0b6-4eb3-ae36-9db52efb020d",
   "metadata": {},
   "source": [
    "* Some relationship between `selling price` and `km_driven`"
   ]
  },
  {
   "cell_type": "code",
   "execution_count": 24,
   "id": "f3338f30-4202-40ec-90d8-6ecdef06c18c",
   "metadata": {},
   "outputs": [
    {
     "name": "stdout",
     "output_type": "stream",
     "text": [
      "Correlation between selling price and driven kilometer\n",
      "\n",
      "               selling_price  km_driven\n",
      "selling_price       1.000000  -0.212937\n",
      "km_driven          -0.212937   1.000000\n"
     ]
    }
   ],
   "source": [
    "print(\"Correlation between selling price and driven kilometer\\n\")\n",
    "print(bike[[\"selling_price\",\"km_driven\"]].corr())"
   ]
  },
  {
   "cell_type": "code",
   "execution_count": 25,
   "id": "1fa96b65-41bb-40ba-b61b-799cb6036d98",
   "metadata": {},
   "outputs": [
    {
     "name": "stdout",
     "output_type": "stream",
     "text": [
      "67618.07212024048 -0.23224560886746437\n"
     ]
    }
   ],
   "source": [
    "no_naMotor = bike[[\"selling_price\",\"km_driven\"]].dropna()\n",
    "slope,intercept,*_ = stats.linregress(no_naMotor.km_driven,no_naMotor.selling_price)\n",
    "print(intercept,slope)"
   ]
  },
  {
   "cell_type": "markdown",
   "id": "08ea1067-adee-4911-9cae-47c438a78d7e",
   "metadata": {},
   "source": [
    "Let's plot scatter with trend line for developing relationship explicitly via graph"
   ]
  },
  {
   "cell_type": "code",
   "execution_count": 26,
   "id": "60961cc0-6f7a-40b4-9c56-ad7fef49af72",
   "metadata": {},
   "outputs": [
    {
     "data": {
      "image/png": "[encoded data removed]",
      "text/plain": [
       "<Figure size 432x288 with 1 Axes>"
      ]
     },
     "metadata": {
      "needs_background": "light"
     },
     "output_type": "display_data"
    }
   ],
   "source": [
    "yhat = intercept + slope*no_naMotor.km_driven\n",
    "fit = pd.DataFrame(zip(no_naMotor.km_driven,yhat))\n",
    "fit.columns = [\"x\",\"yhat\"]\n",
    "bike.plot.scatter(x = \"km_driven\",y = \"selling_price\")\n",
    "plt.plot(no_naMotor.km_driven,yhat,c = \"red\",label = \"SLR fit\")\n",
    "plt.title(\"Scatter plot with trend line for km_driven and selling_price relationship\")\n",
    "plt.legend()\n",
    "plt.show()"
   ]
  },
  {
   "cell_type": "markdown",
   "id": "d2440dde-cac3-408e-b471-b1ad9b19fd8e",
   "metadata": {},
   "source": [
    "___Relationship between km_driven and selling price is negative, and most sample is cluster below 200000___"
   ]
  },
  {
   "cell_type": "markdown",
   "id": "0de4b1b0-0eec-44b0-af05-714eca786639",
   "metadata": {},
   "source": [
    "Let's see what happened for kmdrive and seller price in each year, check if they have seasonal trend"
   ]
  },
  {
   "cell_type": "code",
   "execution_count": 27,
   "id": "88d64354-a250-4a93-a657-007c2e890bfa",
   "metadata": {},
   "outputs": [
    {
     "data": {
      "text/plain": [
       "Text(0.5, 1.0, 'Mean of sellingprice and kmdrive in each years')"
      ]
     },
     "execution_count": 27,
     "metadata": {},
     "output_type": "execute_result"
    },
    {
     "data": {
      "image/png": "[encoded data removed]",
      "text/plain": [
       "<Figure size 432x288 with 1 Axes>"
      ]
     },
     "metadata": {
      "needs_background": "light"
     },
     "output_type": "display_data"
    }
   ],
   "source": [
    "mean_data = bike.groupby(\"year\").agg(\n",
    "mean_sellingprice = (\"selling_price\", np.mean),\n",
    "mean_kmdriven = (\"km_driven\", np.mean)\n",
    ")\n",
    "mean_data.plot.line()\n",
    "plt.title(\"Mean of sellingprice and kmdrive in each years\")"
   ]
  },
  {
   "cell_type": "markdown",
   "id": "d43f9040-e4e1-4836-bb85-a707ec2d6416",
   "metadata": {},
   "source": [
    "__In most year the mean of selling price have the same trend with km_driven__ "
   ]
  },
  {
   "cell_type": "markdown",
   "id": "3a587eae-8320-451d-bda2-d248e28ae4a9",
   "metadata": {},
   "source": [
    "* Some relationship between `selling price` and `ex_showroom_price`"
   ]
  },
  {
   "cell_type": "code",
   "execution_count": 28,
   "id": "22d27194-0ec3-4afe-97f8-d1a4595ce544",
   "metadata": {},
   "outputs": [
    {
     "name": "stdout",
     "output_type": "stream",
     "text": [
      "Correlation between selling price and ex_showroom_price\n",
      "\n",
      "                   selling_price  ex_showroom_price\n",
      "selling_price           1.000000           0.918583\n",
      "ex_showroom_price       0.918583           1.000000\n"
     ]
    }
   ],
   "source": [
    "print(\"Correlation between selling price and ex_showroom_price\\n\")\n",
    "print(bike[[\"selling_price\",\"ex_showroom_price\"]].corr())"
   ]
  },
  {
   "cell_type": "markdown",
   "id": "e050336b-9310-4249-9d4d-4af65dce1887",
   "metadata": {},
   "source": [
    "__We found a high correlation between selling price and ex_showroom price__"
   ]
  },
  {
   "cell_type": "code",
   "execution_count": 29,
   "id": "9a20ac7c-a2f2-4831-81d9-a5679b0fcca1",
   "metadata": {},
   "outputs": [
    {
     "name": "stdout",
     "output_type": "stream",
     "text": [
      "-3010.6984020536765 0.7100588453119134\n"
     ]
    }
   ],
   "source": [
    "no_naMotor = bike[[\"selling_price\",\"ex_showroom_price\"]].dropna()\n",
    "slope,intercept,*_ = stats.linregress(no_naMotor.ex_showroom_price,no_naMotor.selling_price)\n",
    "print(intercept,slope)"
   ]
  },
  {
   "cell_type": "markdown",
   "id": "4238e48f-d191-4116-87e6-78c2f4a2131d",
   "metadata": {},
   "source": [
    "Let's plot scatter with trend line for developing relationship explicitly via graph"
   ]
  },
  {
   "cell_type": "code",
   "execution_count": 30,
   "id": "ab24bb4d-eca3-4330-854e-841dc100b34f",
   "metadata": {},
   "outputs": [
    {
     "data": {
      "image/png": "[encoded data removed]",
      "text/plain": [
       "<Figure size 432x288 with 1 Axes>"
      ]
     },
     "metadata": {
      "needs_background": "light"
     },
     "output_type": "display_data"
    }
   ],
   "source": [
    "plt.close()\n",
    "yhat = intercept + slope*no_naMotor.ex_showroom_price\n",
    "fit = pd.DataFrame(zip(no_naMotor.ex_showroom_price,yhat))\n",
    "fit.columns = [\"x\",\"yhat\"]\n",
    "bike.plot.scatter(x = \"ex_showroom_price\",y = \"selling_price\")\n",
    "plt.plot(no_naMotor.ex_showroom_price,yhat,c = \"orange\",label = \"SLR fit\")\n",
    "plt.title(\"Scatter plot with trend line for ex_showroom_price and selling_price relationship\")\n",
    "plt.legend()\n",
    "plt.show()"
   ]
  },
  {
   "cell_type": "markdown",
   "id": "be23d981-a23c-47c8-8ed9-4c2101baddd9",
   "metadata": {},
   "source": [
    "__The relationship between selling price and ex_showroom price is positive, same as previous trend plot, most sample points are cluster__"
   ]
  },
  {
   "cell_type": "code",
   "execution_count": 31,
   "id": "2bb43fde-7d9c-4674-bedd-605d2adbd063",
   "metadata": {},
   "outputs": [
    {
     "data": {
      "text/plain": [
       "Text(0.5, 1.0, 'Mean of sellerprice and ex_showroom_price in each years')"
      ]
     },
     "execution_count": 31,
     "metadata": {},
     "output_type": "execute_result"
    },
    {
     "data": {
      "image/png": "[encoded data removed]",
      "text/plain": [
       "<Figure size 432x288 with 1 Axes>"
      ]
     },
     "metadata": {
      "needs_background": "light"
     },
     "output_type": "display_data"
    }
   ],
   "source": [
    "plt.close()\n",
    "mean_data = bike.groupby(\"year\").agg(\n",
    "mean_sellingprice = (\"selling_price\", np.mean),\n",
    "mean_ex_showroom_price = (\"ex_showroom_price\", np.mean)\n",
    ")\n",
    "mean_data.plot.line()\n",
    "plt.title(\"Mean of sellerprice and ex_showroom_price in each years\")"
   ]
  },
  {
   "cell_type": "markdown",
   "id": "b61dea63-df57-4157-801c-585c8b58a95e",
   "metadata": {},
   "source": [
    "__Although ex_showroom price start from 2005, we still found same trend between selling price and ex_showroom price__"
   ]
  },
  {
   "cell_type": "markdown",
   "id": "e9f918ee-40b4-4fb2-8219-b0fb6a5b4395",
   "metadata": {},
   "source": [
    "### Relationship between response variable and object variables"
   ]
  },
  {
   "cell_type": "markdown",
   "id": "d29b9621-cbeb-41d5-aba8-0ee389b3c4cd",
   "metadata": {},
   "source": [
    "In this part, we will explore the relationship between the response variable `selling_price` and the two object variables: `seller_type` and `owner`. "
   ]
  },
  {
   "cell_type": "markdown",
   "id": "53a33e6f-4912-47b8-b376-7b04b96aa783",
   "metadata": {},
   "source": [
    "Let's group the dataset by `seller_type`:"
   ]
  },
  {
   "cell_type": "code",
   "execution_count": 32,
   "id": "547cc3b4-a3bf-46d3-89e6-f55ab8ebe44a",
   "metadata": {},
   "outputs": [
    {
     "data": {
      "text/html": [
       "<div>\n",
       "<style scoped>\n",
       "    .dataframe tbody tr th:only-of-type {\n",
       "        vertical-align: middle;\n",
       "    }\n",
       "\n",
       "    .dataframe tbody tr th {\n",
       "        vertical-align: top;\n",
       "    }\n",
       "\n",
       "    .dataframe thead th {\n",
       "        text-align: right;\n",
       "    }\n",
       "</style>\n",
       "<table border=\"1\" class=\"dataframe\">\n",
       "  <thead>\n",
       "    <tr style=\"text-align: right;\">\n",
       "      <th></th>\n",
       "      <th>mean</th>\n",
       "      <th>median</th>\n",
       "      <th>std</th>\n",
       "      <th>max</th>\n",
       "      <th>min</th>\n",
       "      <th>count</th>\n",
       "    </tr>\n",
       "    <tr>\n",
       "      <th>seller_type</th>\n",
       "      <th></th>\n",
       "      <th></th>\n",
       "      <th></th>\n",
       "      <th></th>\n",
       "      <th></th>\n",
       "      <th></th>\n",
       "    </tr>\n",
       "  </thead>\n",
       "  <tbody>\n",
       "    <tr>\n",
       "      <th>Dealer</th>\n",
       "      <td>46666.666667</td>\n",
       "      <td>44000.0</td>\n",
       "      <td>25734.542286</td>\n",
       "      <td>80000</td>\n",
       "      <td>15000</td>\n",
       "      <td>6</td>\n",
       "    </tr>\n",
       "    <tr>\n",
       "      <th>Individual</th>\n",
       "      <td>59711.923223</td>\n",
       "      <td>45000.0</td>\n",
       "      <td>56427.961672</td>\n",
       "      <td>760000</td>\n",
       "      <td>5000</td>\n",
       "      <td>1055</td>\n",
       "    </tr>\n",
       "  </tbody>\n",
       "</table>\n",
       "</div>"
      ],
      "text/plain": [
       "                     mean   median           std     max    min  count\n",
       "seller_type                                                           \n",
       "Dealer       46666.666667  44000.0  25734.542286   80000  15000      6\n",
       "Individual   59711.923223  45000.0  56427.961672  760000   5000   1055"
      ]
     },
     "execution_count": 32,
     "metadata": {},
     "output_type": "execute_result"
    }
   ],
   "source": [
    "bike.groupby(\"seller_type\").selling_price.agg([\"mean\",\"median\",\"std\",\"max\",\"min\",\"count\"])"
   ]
  },
  {
   "cell_type": "markdown",
   "id": "74b14e91-43b7-41f1-8249-ab7c89ed461b",
   "metadata": {},
   "source": [
    "**From the above table, we can find The mean and median of `individual` are higher than the `dealer` and the spread of individual is higher than the dealer too.**"
   ]
  },
  {
   "cell_type": "markdown",
   "id": "25e52307-de18-4eeb-87ba-887e34fcb06e",
   "metadata": {},
   "source": [
    "Let's create the histogram for the `selling_price` across the `seller_type`."
   ]
  },
  {
   "cell_type": "code",
   "execution_count": 33,
   "id": "36ecdadf-6b62-4233-8217-eedc82d97437",
   "metadata": {},
   "outputs": [
    {
     "data": {
      "image/png": "[encoded data removed]",
      "text/plain": [
       "<Figure size 432x288 with 1 Axes>"
      ]
     },
     "metadata": {
      "needs_background": "light"
     },
     "output_type": "display_data"
    }
   ],
   "source": [
    "Dealer_price = bike.loc[bike.seller_type == \"Dealer\", \"selling_price\"]\n",
    "Individual_price = bike.loc[bike.seller_type == \"Individual\", \"selling_price\"]\n",
    "price_by_seller = pd.DataFrame([pd.Series(Dealer_price), pd.Series(Individual_price)]).transpose()\n",
    "price_by_seller.columns = [\"Dealer\", \"Individual\"]\n",
    "price_by_seller.plot.hist(alpha = 0.5)\n",
    "plt.xlabel(\"Selling Price\")\n",
    "plt.title(\"Histograms of Selling Price for Different Seller Type\")\n",
    "plt.legend()\n",
    "plt.show()\n",
    "plt.close()"
   ]
  },
  {
   "cell_type": "markdown",
   "id": "4d7fd852-f956-4775-9475-e9dc8df6b2d9",
   "metadata": {},
   "source": [
    "From the above figure, because the count of the \"Dealer\" seller type is so small, I will plot it individually."
   ]
  },
  {
   "cell_type": "code",
   "execution_count": 34,
   "id": "bcbd5635-2126-42a3-8b44-4338d573d191",
   "metadata": {},
   "outputs": [
    {
     "data": {
      "image/png": "[encoded data removed]",
      "text/plain": [
       "<Figure size 432x288 with 1 Axes>"
      ]
     },
     "metadata": {
      "needs_background": "light"
     },
     "output_type": "display_data"
    }
   ],
   "source": [
    "price_by_seller[\"Dealer\"].plot.hist(alpha = 0.5)\n",
    "plt.xlabel(\"Selling Price\")\n",
    "plt.title(\"Histograms of Selling Price for Dealer\")\n",
    "plt.show()\n",
    "plt.close()"
   ]
  },
  {
   "cell_type": "markdown",
   "id": "a5072d7e-a5a0-4024-b677-c905d5567c2f",
   "metadata": {},
   "source": [
    "Let's plot a boxplot."
   ]
  },
  {
   "cell_type": "code",
   "execution_count": 35,
   "id": "085a0cb5-1949-4003-9af9-ac475d86fdb7",
   "metadata": {},
   "outputs": [
    {
     "data": {
      "text/plain": [
       "Text(0, 0.5, 'Price')"
      ]
     },
     "execution_count": 35,
     "metadata": {},
     "output_type": "execute_result"
    },
    {
     "data": {
      "image/png": "[encoded data removed]",
      "text/plain": [
       "<Figure size 432x288 with 1 Axes>"
      ]
     },
     "metadata": {
      "needs_background": "light"
     },
     "output_type": "display_data"
    }
   ],
   "source": [
    "price_by_seller.boxplot()\n",
    "plt.title(\"Boxplot for selling price of different seller type\")\n",
    "plt.ylabel(\"Price\")"
   ]
  },
  {
   "cell_type": "markdown",
   "id": "03ed26d4-60bd-4437-b039-08c5a90b2139",
   "metadata": {},
   "source": [
    "**We can found that the histograms of different seller type are much different. When the seller type is \"Individual\", there is a obviously decreasing trend for frenqency as the selling price increases, but there is almost a uniform distribution for \"Dealer\" if we just observe the above figure. However, the sample of \"Dealer\" is too small so that this conclusion may be inaccurate.**"
   ]
  },
  {
   "cell_type": "markdown",
   "id": "e2be60ac-f7cb-4c65-8a3f-e43152f40df0",
   "metadata": {},
   "source": [
    "Let's group the dataset by `owner`:"
   ]
  },
  {
   "cell_type": "code",
   "execution_count": 36,
   "id": "fbcaa071-6956-4380-863c-125e3dda229d",
   "metadata": {},
   "outputs": [
    {
     "data": {
      "text/html": [
       "<div>\n",
       "<style scoped>\n",
       "    .dataframe tbody tr th:only-of-type {\n",
       "        vertical-align: middle;\n",
       "    }\n",
       "\n",
       "    .dataframe tbody tr th {\n",
       "        vertical-align: top;\n",
       "    }\n",
       "\n",
       "    .dataframe thead th {\n",
       "        text-align: right;\n",
       "    }\n",
       "</style>\n",
       "<table border=\"1\" class=\"dataframe\">\n",
       "  <thead>\n",
       "    <tr style=\"text-align: right;\">\n",
       "      <th></th>\n",
       "      <th>mean</th>\n",
       "      <th>median</th>\n",
       "      <th>std</th>\n",
       "      <th>max</th>\n",
       "      <th>min</th>\n",
       "      <th>count</th>\n",
       "    </tr>\n",
       "    <tr>\n",
       "      <th>owner</th>\n",
       "      <th></th>\n",
       "      <th></th>\n",
       "      <th></th>\n",
       "      <th></th>\n",
       "      <th></th>\n",
       "      <th></th>\n",
       "    </tr>\n",
       "  </thead>\n",
       "  <tbody>\n",
       "    <tr>\n",
       "      <th>1st owner</th>\n",
       "      <td>60022.813853</td>\n",
       "      <td>45000.0</td>\n",
       "      <td>51542.569711</td>\n",
       "      <td>760000</td>\n",
       "      <td>5000</td>\n",
       "      <td>924</td>\n",
       "    </tr>\n",
       "    <tr>\n",
       "      <th>2nd owner</th>\n",
       "      <td>55666.658537</td>\n",
       "      <td>32000.0</td>\n",
       "      <td>81671.923395</td>\n",
       "      <td>750000</td>\n",
       "      <td>6000</td>\n",
       "      <td>123</td>\n",
       "    </tr>\n",
       "    <tr>\n",
       "      <th>3rd owner</th>\n",
       "      <td>55727.272727</td>\n",
       "      <td>45000.0</td>\n",
       "      <td>38385.129697</td>\n",
       "      <td>150000</td>\n",
       "      <td>20000</td>\n",
       "      <td>11</td>\n",
       "    </tr>\n",
       "    <tr>\n",
       "      <th>4th owner</th>\n",
       "      <td>118333.333333</td>\n",
       "      <td>15000.0</td>\n",
       "      <td>183325.757419</td>\n",
       "      <td>330000</td>\n",
       "      <td>10000</td>\n",
       "      <td>3</td>\n",
       "    </tr>\n",
       "  </tbody>\n",
       "</table>\n",
       "</div>"
      ],
      "text/plain": [
       "                    mean   median            std     max    min  count\n",
       "owner                                                                 \n",
       "1st owner   60022.813853  45000.0   51542.569711  760000   5000    924\n",
       "2nd owner   55666.658537  32000.0   81671.923395  750000   6000    123\n",
       "3rd owner   55727.272727  45000.0   38385.129697  150000  20000     11\n",
       "4th owner  118333.333333  15000.0  183325.757419  330000  10000      3"
      ]
     },
     "execution_count": 36,
     "metadata": {},
     "output_type": "execute_result"
    }
   ],
   "source": [
    "bike.groupby(\"owner\").selling_price.agg([\"mean\",\"median\",\"std\",\"max\",\"min\",\"count\"])"
   ]
  },
  {
   "cell_type": "markdown",
   "id": "5f6eb171-7f53-40c1-8d72-1b3a32e276e5",
   "metadata": {},
   "source": [
    "**From the above table, as the owner's from 1st to 4th, the count of motorbike is smaller and smaller, the spread has a trend of increasing while the center has a trend of decreasing. We can also find that the mean of selling price of `4th owner` is extremely high which can be explained as the count of this group is so small.**"
   ]
  },
  {
   "cell_type": "markdown",
   "id": "09373303-01bb-4961-9b58-f107bd0c1386",
   "metadata": {},
   "source": [
    "Considering that the count numbers of different type of owner are much different, so we still plot the histograms respectively."
   ]
  },
  {
   "cell_type": "code",
   "execution_count": 37,
   "id": "cf0d54e4-3f63-4c6a-bd10-926e286bf53c",
   "metadata": {},
   "outputs": [
    {
     "data": {
      "text/plain": [
       "array([[<AxesSubplot:title={'center':'1st owner'}>,\n",
       "        <AxesSubplot:title={'center':'2nd owner'}>],\n",
       "       [<AxesSubplot:title={'center':'3rd owner'}>,\n",
       "        <AxesSubplot:title={'center':'4th owner'}>]], dtype=object)"
      ]
     },
     "execution_count": 37,
     "metadata": {},
     "output_type": "execute_result"
    },
    {
     "data": {
      "image/png": "[encoded data removed]",
      "text/plain": [
       "<Figure size 1152x648 with 4 Axes>"
      ]
     },
     "metadata": {
      "needs_background": "light"
     },
     "output_type": "display_data"
    }
   ],
   "source": [
    "first_price = bike.loc[bike.owner == \"1st owner\", \"selling_price\"]\n",
    "second_price = bike.loc[bike.owner == \"2nd owner\", \"selling_price\"]\n",
    "third_price = bike.loc[bike.owner == \"3rd owner\", \"selling_price\"]\n",
    "fourth_price = bike.loc[bike.owner == \"4th owner\", \"selling_price\"]\n",
    "price_by_owner = pd.DataFrame([pd.Series(first_price), pd.Series(second_price), pd.Series(third_price), pd.Series(fourth_price)]).transpose()\n",
    "price_by_owner.columns = [\"1st owner\", \"2nd owner\", \"3rd owner\", \"4th owner\"]\n",
    "price_by_owner.hist(bins=20, layout = (2,2), figsize=(16, 9))"
   ]
  },
  {
   "cell_type": "markdown",
   "id": "66dc50ba-15b8-42dc-9452-d7e6874d3ab0",
   "metadata": {},
   "source": [
    "Let's plot the boxplot."
   ]
  },
  {
   "cell_type": "code",
   "execution_count": 38,
   "id": "0f6418c8-e46d-4fbe-a469-f7648f273d82",
   "metadata": {},
   "outputs": [
    {
     "data": {
      "text/plain": [
       "Text(0, 0.5, 'Price')"
      ]
     },
     "execution_count": 38,
     "metadata": {},
     "output_type": "execute_result"
    },
    {
     "data": {
      "image/png": "[encoded data removed]",
      "text/plain": [
       "<Figure size 432x288 with 1 Axes>"
      ]
     },
     "metadata": {
      "needs_background": "light"
     },
     "output_type": "display_data"
    }
   ],
   "source": [
    "price_by_owner.boxplot()\n",
    "plt.title(\"Boxplot for selling price of different owner\")\n",
    "plt.ylabel(\"Price\")"
   ]
  },
  {
   "cell_type": "markdown",
   "id": "fa1d31c3-9094-4e3c-b699-fc70e01926dd",
   "metadata": {},
   "source": [
    "**From the above figures, we can find that for these four different types, the distributions are similar with positive skewness. The center is decreasing from 1st owner to 2nd owner, which is same as the common sense. But the distributions of 3rd owner and 4th owner are unstable because of the small sample.**"
   ]
  },
  {
   "cell_type": "markdown",
   "id": "e9d940fc-4b86-4555-b60f-30d69e7c602e",
   "metadata": {},
   "source": [
    "### Relationship between response variable and numeric variables"
   ]
  },
  {
   "cell_type": "markdown",
   "id": "6c4a9f67-2463-4cd3-bac7-0028af4dfc63",
   "metadata": {},
   "source": [
    "In this part, we will explore the relationship between the response variable `selling_price` and the two numeric variables: `year` and `km_driven`. Before we do that, according to our common sense, the selling price might increase as the year increases or the kilometers driven decreases. Let's verify that."
   ]
  },
  {
   "cell_type": "markdown",
   "id": "daa544de-cf10-4deb-9334-81249c388186",
   "metadata": {},
   "source": [
    "Firstly, we create the scatter plot between the `selling_price` and `year`."
   ]
  },
  {
   "cell_type": "code",
   "execution_count": 39,
   "id": "6a948fae-447f-4a55-afee-840373c16b33",
   "metadata": {},
   "outputs": [
    {
     "data": {
      "text/plain": [
       "Text(0.5, 1.0, 'Scatter Plot between selling price and year')"
      ]
     },
     "execution_count": 39,
     "metadata": {},
     "output_type": "execute_result"
    },
    {
     "data": {
      "image/png": "[encoded data removed]",
      "text/plain": [
       "<Figure size 432x288 with 1 Axes>"
      ]
     },
     "metadata": {
      "needs_background": "light"
     },
     "output_type": "display_data"
    }
   ],
   "source": [
    "bike.plot.scatter(x = \"year\", y = \"selling_price\")\n",
    "plt.title(\"Scatter Plot between selling price and year\")"
   ]
  },
  {
   "cell_type": "markdown",
   "id": "1473f341-190e-42da-a98a-a68e807b5dcc",
   "metadata": {},
   "source": [
    "**From the above plot, we can find that there indeed a increasing trend of the selling price as the year increases.**"
   ]
  },
  {
   "cell_type": "markdown",
   "id": "d7b6c84d-a409-456b-a61c-b1f252a4ac0f",
   "metadata": {},
   "source": [
    "Let's group the selling price by `year` then calculate the mean value of `selling_price` of each group. Plot a line chart for that."
   ]
  },
  {
   "cell_type": "code",
   "execution_count": 40,
   "id": "fc4e3be7-ab33-488c-9d4c-0a8f98f0c6f0",
   "metadata": {},
   "outputs": [
    {
     "data": {
      "text/plain": [
       "Text(0.5, 1.0, 'Line Chart for mean price of each year')"
      ]
     },
     "execution_count": 40,
     "metadata": {},
     "output_type": "execute_result"
    },
    {
     "data": {
      "image/png": "[encoded data removed]",
      "text/plain": [
       "<Figure size 432x288 with 1 Axes>"
      ]
     },
     "metadata": {
      "needs_background": "light"
     },
     "output_type": "display_data"
    }
   ],
   "source": [
    "price_by_year = bike.groupby(\"year\").selling_price.mean()\n",
    "price_by_year.plot()\n",
    "plt.ylabel(\"selling prie\")\n",
    "plt.title(\"Line Chart for mean price of each year\")"
   ]
  },
  {
   "cell_type": "markdown",
   "id": "6c62fac3-1a21-4ab3-8903-7f7b553d7adf",
   "metadata": {},
   "source": [
    "**From the above line chart, it is easy to find the increasing trend even though there are two outliers in 1993 and 1995. The outliers could be explained by the size of sample.**"
   ]
  },
  {
   "cell_type": "markdown",
   "id": "8488a9c5-b23b-49fe-a61f-d19f3a155718",
   "metadata": {},
   "source": [
    "Then, let's make a scatter plot between `selling_price` and `km_driven`."
   ]
  },
  {
   "cell_type": "code",
   "execution_count": 41,
   "id": "80552f75-9c6e-421a-a99e-ca92ae737842",
   "metadata": {},
   "outputs": [
    {
     "data": {
      "text/plain": [
       "Text(0.5, 1.0, 'Scatter Plot between selling price and km driven')"
      ]
     },
     "execution_count": 41,
     "metadata": {},
     "output_type": "execute_result"
    },
    {
     "data": {
      "image/png": "[encoded data removed]",
      "text/plain": [
       "<Figure size 432x288 with 1 Axes>"
      ]
     },
     "metadata": {
      "needs_background": "light"
     },
     "output_type": "display_data"
    }
   ],
   "source": [
    "bike.plot.scatter(x = \"km_driven\", y = \"selling_price\")\n",
    "plt.title(\"Scatter Plot between selling price and km driven\")"
   ]
  },
  {
   "cell_type": "markdown",
   "id": "dbdc9782-1a8e-4ca5-b0d0-bc8e85b9047d",
   "metadata": {},
   "source": [
    "**From the above scatter plot, there is a decreasing trend as the km_driven increases. Different from `year`, `km_driven` is not fit for the line chart.**"
   ]
  },
  {
   "cell_type": "markdown",
   "id": "1f8a4f77-6fa7-458f-9e63-249b81b27815",
   "metadata": {},
   "source": [
    "### Relationship between year and owner"
   ]
  },
  {
   "cell_type": "markdown",
   "id": "c95a8545-59c3-4891-aa5d-4fdb484c99e0",
   "metadata": {},
   "source": [
    "From the above two parts, we know that the selling price may increase as the number of owners decrease or the year increases. Whether there is a relationship between the `year` and `owner`."
   ]
  },
  {
   "cell_type": "markdown",
   "id": "ab1c62d3-dbd9-44c3-b6c6-2bebe0df5262",
   "metadata": {},
   "source": [
    "Firstly, we create a two-way contingency table based on `year` and `owner`."
   ]
  },
  {
   "cell_type": "code",
   "execution_count": 42,
   "id": "e616fad9-a33b-493e-abad-1347c5f652c4",
   "metadata": {},
   "outputs": [
    {
     "data": {
      "text/html": [
       "<div>\n",
       "<style scoped>\n",
       "    .dataframe tbody tr th:only-of-type {\n",
       "        vertical-align: middle;\n",
       "    }\n",
       "\n",
       "    .dataframe tbody tr th {\n",
       "        vertical-align: top;\n",
       "    }\n",
       "\n",
       "    .dataframe thead th {\n",
       "        text-align: right;\n",
       "    }\n",
       "</style>\n",
       "<table border=\"1\" class=\"dataframe\">\n",
       "  <thead>\n",
       "    <tr style=\"text-align: right;\">\n",
       "      <th>owner</th>\n",
       "      <th>1st owner</th>\n",
       "      <th>2nd owner</th>\n",
       "      <th>3rd owner</th>\n",
       "      <th>4th owner</th>\n",
       "    </tr>\n",
       "    <tr>\n",
       "      <th>year</th>\n",
       "      <th></th>\n",
       "      <th></th>\n",
       "      <th></th>\n",
       "      <th></th>\n",
       "    </tr>\n",
       "  </thead>\n",
       "  <tbody>\n",
       "    <tr>\n",
       "      <th>1988</th>\n",
       "      <td>1</td>\n",
       "      <td>0</td>\n",
       "      <td>0</td>\n",
       "      <td>0</td>\n",
       "    </tr>\n",
       "    <tr>\n",
       "      <th>1991</th>\n",
       "      <td>1</td>\n",
       "      <td>0</td>\n",
       "      <td>0</td>\n",
       "      <td>0</td>\n",
       "    </tr>\n",
       "    <tr>\n",
       "      <th>1993</th>\n",
       "      <td>0</td>\n",
       "      <td>1</td>\n",
       "      <td>0</td>\n",
       "      <td>0</td>\n",
       "    </tr>\n",
       "    <tr>\n",
       "      <th>1995</th>\n",
       "      <td>0</td>\n",
       "      <td>0</td>\n",
       "      <td>1</td>\n",
       "      <td>0</td>\n",
       "    </tr>\n",
       "    <tr>\n",
       "      <th>1997</th>\n",
       "      <td>2</td>\n",
       "      <td>0</td>\n",
       "      <td>0</td>\n",
       "      <td>0</td>\n",
       "    </tr>\n",
       "  </tbody>\n",
       "</table>\n",
       "</div>"
      ],
      "text/plain": [
       "owner  1st owner  2nd owner  3rd owner  4th owner\n",
       "year                                             \n",
       "1988           1          0          0          0\n",
       "1991           1          0          0          0\n",
       "1993           0          1          0          0\n",
       "1995           0          0          1          0\n",
       "1997           2          0          0          0"
      ]
     },
     "execution_count": 42,
     "metadata": {},
     "output_type": "execute_result"
    }
   ],
   "source": [
    "year_owner = pd.crosstab(bike.year, bike.owner)\n",
    "year_owner.head()"
   ]
  },
  {
   "cell_type": "markdown",
   "id": "43374e12-5392-4c48-8951-682ce0e68ba7",
   "metadata": {},
   "source": [
    "Let's create a stacked bar graph."
   ]
  },
  {
   "cell_type": "code",
   "execution_count": 43,
   "id": "9c66cc96-38d0-4172-a8b6-b32dcbe38a0f",
   "metadata": {},
   "outputs": [
    {
     "data": {
      "image/png": "[encoded data removed]",
      "text/plain": [
       "<Figure size 1152x648 with 1 Axes>"
      ]
     },
     "metadata": {
      "needs_background": "light"
     },
     "output_type": "display_data"
    }
   ],
   "source": [
    "plt.subplots(figsize = (16,9))\n",
    "y1 = year_owner.loc[:, \"1st owner\"]\n",
    "y2 = year_owner.loc[:, \"2nd owner\"]\n",
    "y3 = year_owner.loc[:, \"3rd owner\"]\n",
    "y4 = year_owner.loc[:, \"4th owner\"]\n",
    "p1 = plt.bar(x = bike.year.astype(\"category\").cat.categories, height = y1)\n",
    "p2 = plt.bar(x = bike.year.astype(\"category\").cat.categories, height = y2, bottom = y1)\n",
    "p3 = plt.bar(x = bike.year.astype(\"category\").cat.categories, height = y3, bottom = y1+y2)\n",
    "p4 = plt.bar(x = bike.year.astype(\"category\").cat.categories, height = y4, bottom = y1+y2+y3)\n",
    "plt.xlabel(\"Year\")\n",
    "plt.ylabel(\"Count for motorbikes\")\n",
    "plt.title(\"Count for motorbikes with each year and each type of owner\")\n",
    "plt.legend((p1[0], p2[0], p3[0], p4[0]), ('1st owner', '2nd owner', '3rd owner', '4th owner'), loc = 0)\n",
    "plt.show()\n",
    "plt.close()"
   ]
  },
  {
   "cell_type": "markdown",
   "id": "f461ac9e-0b98-484a-8cbf-c2e87f9bc822",
   "metadata": {},
   "source": [
    "We can find that the total sample is a negative skew. Let's create a side-by-side bar plot to compare the distributions of different owner."
   ]
  },
  {
   "cell_type": "code",
   "execution_count": 44,
   "id": "645d28fa-feab-40de-b702-5b86dc2291b8",
   "metadata": {},
   "outputs": [
    {
     "data": {
      "image/png": "[encoded data removed]",
      "text/plain": [
       "<Figure size 1152x648 with 1 Axes>"
      ]
     },
     "metadata": {
      "needs_background": "light"
     },
     "output_type": "display_data"
    }
   ],
   "source": [
    "labels = bike.year.astype(\"category\").cat.categories\n",
    "length = len(labels)\n",
    "width = 0.8\n",
    "plt.subplots(figsize = (16,9))\n",
    "p1 = plt.bar(x = [i - width/2 for i in range(0, length)], height = y1, width = width/4)\n",
    "p2 = plt.bar(x = [i - width/4 for i in range(0, length)], height = y2, width = width/4)\n",
    "p3 = plt.bar(x = [i + width/4 for i in range(0, length)], height = y3, width = width/4)\n",
    "p4 = plt.bar(x = [i + width/2 for i in range(0, length)], height = y4, width = width/4)\n",
    "plt.xticks(range(0, length), labels) #(list of positions, list of labels)\n",
    "plt.xlabel(\"Year\")\n",
    "plt.ylabel(\"Count for motorbikes\")\n",
    "plt.title(\"Count for motorbikes with each year and each type of owner\")\n",
    "plt.legend((p1[0], p2[0], p3[0], p4[0]), ('1st owner', '2nd owner', '3rd owner', '4th owner'), loc = 0)\n",
    "plt.show()\n",
    "plt.close()"
   ]
  },
  {
   "cell_type": "markdown",
   "id": "dffad42c-6b0f-4ca0-9df3-accfe30ce42f",
   "metadata": {},
   "source": [
    "**From the above figure, we cannot make an analysis the distribution of \"3rd owner\" and \"4th owner\" because the number is so mall. Both the distribution of \"1st owner\" and the distribution of \"2nd owner\" are negative skew. But the sharp of \"1st owner\" is righter than the sharp of \"2nd owner\".**"
   ]
  },
  {
   "cell_type": "markdown",
   "id": "8a7e47b6-e6b5-4a98-8960-34d5ef7a8c72",
   "metadata": {
    "tags": []
   },
   "source": [
    "## Prediction of selling_price"
   ]
  },
  {
   "cell_type": "markdown",
   "id": "6a17f524-ae04-4161-a3a2-e53b161b9392",
   "metadata": {
    "tags": []
   },
   "source": [
    "### Using a Grid Search Algorithm"
   ]
  },
  {
   "cell_type": "markdown",
   "id": "7dc50b11-18da-4b69-8b7a-b4b4653128bd",
   "metadata": {
    "tags": []
   },
   "source": [
    "#### Just y:"
   ]
  },
  {
   "cell_type": "markdown",
   "id": "e092cf90-b7dc-491d-9298-0cde7120dd76",
   "metadata": {},
   "source": [
    "Define a RMSE function."
   ]
  },
  {
   "cell_type": "code",
   "execution_count": 21,
   "id": "ad944589-a715-4339-b0e3-f877832c4553",
   "metadata": {},
   "outputs": [],
   "source": [
    "def RMSE(y,c):\n",
    "    return np.sqrt(np.sum((y-c)**2)/len(y))"
   ]
  },
  {
   "cell_type": "markdown",
   "id": "154cf233-3414-4e5a-9567-1769d55139ef",
   "metadata": {},
   "source": [
    "Let's print the center of the `selling_price`."
   ]
  },
  {
   "cell_type": "code",
   "execution_count": 24,
   "id": "5c0b8083-0607-4fe1-87ab-a5bdb78125db",
   "metadata": {},
   "outputs": [
    {
     "data": {
      "text/plain": [
       "[59638.151743638075, 45000.0]"
      ]
     },
     "execution_count": 24,
     "metadata": {},
     "output_type": "execute_result"
    }
   ],
   "source": [
    "[bike.selling_price.mean(), bike.selling_price.median()]"
   ]
  },
  {
   "cell_type": "markdown",
   "id": "98a7bad8-f90a-4ede-a937-c3b4fa9480dd",
   "metadata": {},
   "source": [
    "Create a grid between the range 30000 to 70000 and calculate the RMSE for each c."
   ]
  },
  {
   "cell_type": "code",
   "execution_count": 25,
   "id": "cb61ba78-cfde-41dd-8a3f-9c87abb0e950",
   "metadata": {},
   "outputs": [
    {
     "name": "stdout",
     "output_type": "stream",
     "text": [
      "[59638, 56277.75212166089]\n"
     ]
    }
   ],
   "source": [
    "smallest_RMSE = 10**8\n",
    "c0 = 0\n",
    "for c in range(30000,70000):\n",
    "    if RMSE(bike.selling_price,c) < smallest_RMSE:\n",
    "        smallest_RMSE = RMSE(bike.selling_price,c)\n",
    "        c0 = c\n",
    "print([c0,smallest_RMSE])"
   ]
  },
  {
   "cell_type": "markdown",
   "id": "541ac6a1-5350-4bae-93e9-d5ed06260d87",
   "metadata": {},
   "source": [
    "From above cell, we can find that when c = 59638, the RMSE is smallest with a value of 56277.75212166089."
   ]
  },
  {
   "cell_type": "markdown",
   "id": "f5408a63-a9df-4b88-a256-06f9d21bf968",
   "metadata": {},
   "source": [
    "to make sure your algorithm generalizes, run it using the `km_driven` variable as the response."
   ]
  },
  {
   "cell_type": "code",
   "execution_count": 26,
   "id": "3775723e-4866-4ac2-be67-9dcedb02e5ca",
   "metadata": {},
   "outputs": [
    {
     "data": {
      "text/plain": [
       "[34359.83317624882, 25000.0]"
      ]
     },
     "execution_count": 26,
     "metadata": {},
     "output_type": "execute_result"
    }
   ],
   "source": [
    "[bike.km_driven.mean(), bike.km_driven.median()]"
   ]
  },
  {
   "cell_type": "code",
   "execution_count": 27,
   "id": "b3c5dc6b-2a1f-47b4-a6f9-8d609dfd2bed",
   "metadata": {},
   "outputs": [
    {
     "name": "stdout",
     "output_type": "stream",
     "text": [
      "[34360, 51598.81937376337]\n"
     ]
    }
   ],
   "source": [
    "smallest_RMSE = 10**8\n",
    "c0 = 0\n",
    "for c in range(20000,50000):\n",
    "    if RMSE(bike.km_driven,c) < smallest_RMSE:\n",
    "        smallest_RMSE = RMSE(bike.km_driven,c)\n",
    "        c0 = c\n",
    "print([c0,smallest_RMSE])"
   ]
  },
  {
   "cell_type": "markdown",
   "id": "a5127b36-edae-49e7-bd8f-0f2cd218b70c",
   "metadata": {},
   "source": [
    "From above cell, we can find that when c = 34360, the RMSE is smallest with a value of 51598.81937376337."
   ]
  },
  {
   "cell_type": "markdown",
   "id": "d742e74d-0023-42c5-816a-75afeaf7e233",
   "metadata": {},
   "source": [
    "#### Using y and another numeric variable x:"
   ]
  },
  {
   "cell_type": "markdown",
   "id": "c5bd7887-eb64-417b-be1d-9f33f9b90e2d",
   "metadata": {},
   "source": [
    "$$selling\\_price = b_1 * km\\_driven + b_0$$"
   ]
  },
  {
   "cell_type": "code",
   "execution_count": 31,
   "id": "e101bd1a-beb9-49af-a3ad-9b113518dd16",
   "metadata": {},
   "outputs": [
    {
     "name": "stdout",
     "output_type": "stream",
     "text": [
      "[67541, -0.23, 54987.199961143866]\n"
     ]
    }
   ],
   "source": [
    "smallest_RMSE = 10**8\n",
    "for b0 in range(60000,70000):\n",
    "    for b1 in range(-100,100):\n",
    "        if RMSE(b1/100 * bike.km_driven + b0,bike.selling_price) < smallest_RMSE:\n",
    "            smallest_RMSE = RMSE(b1/100 * bike.km_driven + b0,bike.selling_price)\n",
    "            opt_b0 = b0\n",
    "            opt_b1 = b1/100\n",
    "print([opt_b0,opt_b1,smallest_RMSE])"
   ]
  },
  {
   "cell_type": "markdown",
   "id": "5d5ba788-891e-4162-96f1-32d3b30a6ec3",
   "metadata": {},
   "source": [
    "From above cell, when b0 = 67541, b0 = -0.23, the RMSE is smallest with a value of 54987.199961143866"
   ]
  },
  {
   "cell_type": "markdown",
   "id": "7314e9ab-6941-4b2d-87c4-003e2831924a",
   "metadata": {},
   "source": [
    "Let's predict the `selling_price` for `km_driven` of 10000, 25000, 35000."
   ]
  },
  {
   "cell_type": "code",
   "execution_count": 32,
   "id": "dc1aa175-4821-46ef-99f3-82330655ff5e",
   "metadata": {},
   "outputs": [
    {
     "name": "stdout",
     "output_type": "stream",
     "text": [
      "[10000, 65241.0]\n",
      "[25000, 61791.0]\n",
      "[35000, 59491.0]\n"
     ]
    }
   ],
   "source": [
    "print([10000, opt_b1 * 10000 + opt_b0])\n",
    "print([25000, opt_b1 * 25000 + opt_b0])\n",
    "print([35000, opt_b1 * 35000 + opt_b0])"
   ]
  },
  {
   "cell_type": "markdown",
   "id": "7cdcb5a3-f796-4f18-86b5-807807fcd07f",
   "metadata": {},
   "source": [
    "### Using a Gradient Descent Algorithm"
   ]
  },
  {
   "cell_type": "markdown",
   "id": "94c6c90f-6712-42d6-b6ff-899d89682476",
   "metadata": {},
   "source": [
    "#### Just y:"
   ]
  },
  {
   "cell_type": "markdown",
   "id": "54a4f4a5-451b-41d2-a2eb-dcfc76aff9ad",
   "metadata": {},
   "source": [
    "Let's firstly set the initial value:"
   ]
  },
  {
   "cell_type": "code",
   "execution_count": 55,
   "id": "1b564d3e-9107-4f86-b4e5-8ef09d8cf91e",
   "metadata": {},
   "outputs": [],
   "source": [
    "num_tol = 0.001\n",
    "delta = 0.001\n",
    "step_size = 0.5"
   ]
  },
  {
   "cell_type": "markdown",
   "id": "83cc4f8f-58a8-4ddb-86fd-c22068ecff47",
   "metadata": {},
   "source": [
    "Define a function diff_quotient:"
   ]
  },
  {
   "cell_type": "code",
   "execution_count": 36,
   "id": "878ae347-7dc3-417e-8393-f8707b2a0d5a",
   "metadata": {},
   "outputs": [],
   "source": [
    "def diff_quotient(y,c):\n",
    "    return (RMSE(y,c+delta) - RMSE(y,c))/delta"
   ]
  },
  {
   "cell_type": "code",
   "execution_count": 56,
   "id": "64ab25e4-227e-40c4-b472-8993ddae526c",
   "metadata": {},
   "outputs": [
    {
     "name": "stdout",
     "output_type": "stream",
     "text": [
      "59525.59740916331 56277.86467450848\n"
     ]
    }
   ],
   "source": [
    "cur_c = 50000\n",
    "new_c = cur_c - diff_quotient(bike.selling_price, cur_c) * step_size\n",
    "i = 0\n",
    "while abs(new_c - cur_c) >= num_tol:\n",
    "    i = i+1\n",
    "    cur_c = new_c\n",
    "    new_c = cur_c - diff_quotient(bike.selling_price, cur_c) * step_size\n",
    "    if i > 1000000:\n",
    "        break\n",
    "cur_c = new_c\n",
    "print(cur_c,RMSE(bike.selling_price, cur_c))"
   ]
  },
  {
   "cell_type": "markdown",
   "id": "7ba0abc3-7700-4f3f-bd87-d86e40258209",
   "metadata": {},
   "source": [
    "Print the number of iterations."
   ]
  },
  {
   "cell_type": "code",
   "execution_count": 57,
   "id": "7e148652-3dfa-4e29-9648-29086999f1e5",
   "metadata": {},
   "outputs": [
    {
     "data": {
      "text/plain": [
       "501697"
      ]
     },
     "execution_count": 57,
     "metadata": {},
     "output_type": "execute_result"
    }
   ],
   "source": [
    "i"
   ]
  },
  {
   "cell_type": "markdown",
   "id": "b961cbfd-76c0-4919-8bd8-9e46720d8e3d",
   "metadata": {},
   "source": [
    "After the iterations, when c = 59525.59740916331, there is a smallest RMSE of 56277.86467450848 under num_tol = 0.001."
   ]
  },
  {
   "cell_type": "markdown",
   "id": "1ff54653-bdbd-49df-b347-d91017b3c232",
   "metadata": {},
   "source": [
    "To make sure my algorithm generalizes, run it using the `km_driven` variable as the response."
   ]
  },
  {
   "cell_type": "code",
   "execution_count": 58,
   "id": "6b6ba18f-bd9c-4f30-93e9-1edfeb534add",
   "metadata": {},
   "outputs": [
    {
     "name": "stdout",
     "output_type": "stream",
     "text": [
      "34256.636200127105 51598.922569704\n"
     ]
    }
   ],
   "source": [
    "cur_c = 30000\n",
    "new_c = cur_c - diff_quotient(bike.km_driven, cur_c) * step_size\n",
    "i = 0\n",
    "while abs(new_c - cur_c) >= num_tol:\n",
    "    i = i+1\n",
    "    cur_c = new_c\n",
    "    new_c = cur_c - diff_quotient(bike.km_driven, cur_c) * step_size\n",
    "    if i > 1000000:\n",
    "        break\n",
    "cur_c = new_c\n",
    "print(cur_c,RMSE(bike.km_driven, cur_c))"
   ]
  },
  {
   "cell_type": "code",
   "execution_count": 59,
   "id": "59e38ae4-ea69-4a40-bdac-d454e7bc03d6",
   "metadata": {},
   "outputs": [
    {
     "data": {
      "text/plain": [
       "386507"
      ]
     },
     "execution_count": 59,
     "metadata": {},
     "output_type": "execute_result"
    }
   ],
   "source": [
    "i"
   ]
  },
  {
   "cell_type": "markdown",
   "id": "617d5fa8-795d-4841-be60-d7e53250a836",
   "metadata": {},
   "source": [
    "After the iterations, when c = 34256.636200127105, there is a smallest RMSE of 51598.922569704 under num_tol = 0.001."
   ]
  },
  {
   "cell_type": "markdown",
   "id": "7970d51f-327d-46c8-a5fb-b8f3866754e7",
   "metadata": {
    "tags": []
   },
   "source": [
    "#### Using y and another numeric variable x:"
   ]
  },
  {
   "cell_type": "markdown",
   "id": "208a939e-51ee-41de-a091-2978ca78593c",
   "metadata": {},
   "source": [
    "Define a new RMSE function:"
   ]
  },
  {
   "cell_type": "code",
   "execution_count": 60,
   "id": "6b7f54b7-87f7-4199-a12e-4ec1dea7a138",
   "metadata": {},
   "outputs": [],
   "source": [
    "def RMSE2(y,x,b0,b1):\n",
    "    return np.sqrt(np.sum((y-b0-b1*x)**2)/len(y))"
   ]
  },
  {
   "cell_type": "markdown",
   "id": "96d174de-7125-42d3-9cc0-67550692789d",
   "metadata": {},
   "source": [
    "Define 2 new diff_quotient functions:"
   ]
  },
  {
   "cell_type": "code",
   "execution_count": 65,
   "id": "c0dcf829-2cbf-48b8-b3ea-e735aee5324c",
   "metadata": {},
   "outputs": [],
   "source": [
    "def diff_quotient_b0(y,x,b0,b1):\n",
    "    return (RMSE2(y,x,b0+delta,b1) - RMSE2(y,x,b0,b1))/delta\n",
    "def diff_quotient_b1(y,x,b0,b1):\n",
    "    return (RMSE2(y,x,b0,b1+delta) - RMSE2(y,x,b0,b1))/delta"
   ]
  },
  {
   "cell_type": "markdown",
   "id": "33de596a-db56-4291-8623-a336707a3829",
   "metadata": {},
   "source": [
    "Set initial values:"
   ]
  },
  {
   "cell_type": "code",
   "execution_count": 62,
   "id": "19685d72-debb-4631-bcba-70cb3ee2b846",
   "metadata": {},
   "outputs": [],
   "source": [
    "delta = 0.001\n",
    "step_size0 = 1\n",
    "step_size1 = 0.000005"
   ]
  },
  {
   "cell_type": "markdown",
   "id": "6a598227-bc02-48c3-b832-26c276f4e047",
   "metadata": {},
   "source": [
    "Define a function for 2D Euclidean Distance:"
   ]
  },
  {
   "cell_type": "code",
   "execution_count": 63,
   "id": "2f3071e2-e9a1-4159-8591-d27485bc02bf",
   "metadata": {},
   "outputs": [],
   "source": [
    "def Euclidean2D(x1,x2,y1,y2):\n",
    "    return np.sqrt((x2-x1)**2 + (y2-y1)**2)"
   ]
  },
  {
   "cell_type": "code",
   "execution_count": 67,
   "id": "0c84bdc6-be73-421d-a5b7-f4a836e9c890",
   "metadata": {},
   "outputs": [
    {
     "name": "stdout",
     "output_type": "stream",
     "text": [
      "67563.50042211852 -0.23225767738149686 54987.10537401946\n"
     ]
    }
   ],
   "source": [
    "cur_b0 = 60000\n",
    "cur_b1 = 0\n",
    "new_b0 = cur_b0 - diff_quotient_b0(bike.selling_price, bike.km_driven, cur_b0, cur_b1) * step_size0\n",
    "new_b1 = cur_b1 - diff_quotient_b1(bike.selling_price, bike.km_driven, new_b0, cur_b1) * step_size1\n",
    "i = 0\n",
    "while Euclidean2D(cur_b0,new_b0,cur_b1,new_b1) >= num_tol:\n",
    "    i = i+1\n",
    "    cur_b0 = new_b0\n",
    "    cur_b1 = new_b1\n",
    "    new_b0 = cur_b0 - diff_quotient_b0(bike.selling_price, bike.km_driven, cur_b0, cur_b1) * step_size0\n",
    "    new_b1 = cur_b1 - diff_quotient_b1(bike.selling_price, bike.km_driven, new_b0, cur_b1) * step_size1\n",
    "    if i > 1000000:\n",
    "        break\n",
    "cur_b0 = new_b0\n",
    "cur_b1 = new_b1\n",
    "print(cur_b0,cur_b1,RMSE2(bike.selling_price, bike.km_driven, cur_b0, cur_b1))"
   ]
  },
  {
   "cell_type": "markdown",
   "id": "c0fd9ce1-59b3-4fb2-9454-1fc3082a2b3a",
   "metadata": {},
   "source": [
    "Make sure i is equal or less than 10000000."
   ]
  },
  {
   "cell_type": "code",
   "execution_count": 68,
   "id": "00b44858-5f07-400b-a45f-8f79e0039aa7",
   "metadata": {},
   "outputs": [
    {
     "data": {
      "text/plain": [
       "362781"
      ]
     },
     "execution_count": 68,
     "metadata": {},
     "output_type": "execute_result"
    }
   ],
   "source": [
    "i"
   ]
  },
  {
   "cell_type": "code",
   "execution_count": 69,
   "id": "dfa56179-af6d-4c46-935e-8ce563485cb0",
   "metadata": {},
   "outputs": [],
   "source": [
    "opt_b0 = cur_b0\n",
    "opt_b1 = cur_b1"
   ]
  },
  {
   "cell_type": "code",
   "execution_count": 71,
   "id": "dff3e3ac-d963-4fe2-8f32-ef2792a302db",
   "metadata": {},
   "outputs": [
    {
     "data": {
      "text/plain": [
       "[67563.50042211852, -0.23225767738149686]"
      ]
     },
     "execution_count": 71,
     "metadata": {},
     "output_type": "execute_result"
    }
   ],
   "source": [
    "[opt_b0,opt_b1]"
   ]
  },
  {
   "cell_type": "markdown",
   "id": "c4513fa5-bff3-4fef-afd5-33d2b442371d",
   "metadata": {},
   "source": [
    "Now, let's predict the `selling_price` when `km_driven` is 10000, 25000 or 35000"
   ]
  },
  {
   "cell_type": "code",
   "execution_count": 72,
   "id": "8334a645-f973-4d38-88f4-3876c5926de9",
   "metadata": {},
   "outputs": [
    {
     "name": "stdout",
     "output_type": "stream",
     "text": [
      "[10000, 65240.92364830356]\n",
      "[25000, 61757.058487581104]\n",
      "[35000, 59434.48171376613]\n"
     ]
    }
   ],
   "source": [
    "print([10000, opt_b0 + opt_b1*10000])\n",
    "print([25000, opt_b0 + opt_b1*25000])\n",
    "print([35000, opt_b0 + opt_b1*35000])"
   ]
  }
 ],
 "metadata": {
  "kernelspec": {
   "display_name": "Python 3 (ipykernel)",
   "language": "python",
   "name": "python3"
  },
  "language_info": {
   "codemirror_mode": {
    "name": "ipython",
    "version": 3
   },
   "file_extension": ".py",
   "mimetype": "text/x-python",
   "name": "python",
   "nbconvert_exporter": "python",
   "pygments_lexer": "ipython3",
   "version": "3.10.4"
  }
 },
 "nbformat": 4,
 "nbformat_minor": 5
}
